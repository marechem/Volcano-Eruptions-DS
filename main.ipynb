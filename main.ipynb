{
 "cells": [
  {
   "cell_type": "markdown",
   "metadata": {},
   "source": [
    "# Group 11: Volcano Eruptions\n",
    "###   Chance Hill - Mariana Villalobos - Vinh Pham "
   ]
  },
  {
   "cell_type": "code",
   "execution_count": 1,
   "metadata": {},
   "outputs": [],
   "source": [
    "# Import necessary modules\n",
    "\n",
    "import pandas\n",
    "import matplotlib.pyplot as plt\n",
    "import numpy as np"
   ]
  },
  {
   "cell_type": "code",
   "execution_count": 2,
   "metadata": {},
   "outputs": [],
   "source": [
    "# Read in all csv files into variables using pandas module\n",
    "Eruptions = pandas.read_csv('eruptions.csv')\n",
    "Events = pandas.read_csv('events.csv')\n",
    "Sulfer = pandas.read_csv('sulfur.csv')\n",
    "Treerings = pandas.read_csv('tree_rings.csv')\n",
    "volcano = pandas.read_csv('volcano.csv')"
   ]
  },
  {
   "cell_type": "code",
   "execution_count": null,
   "metadata": {},
   "outputs": [],
   "source": [
    "# To Show Files\n",
    "#Eruptions.head()\n",
    "#Events.head()\n",
    "#Sulfer.head()\n",
    "#Treerings.head()\n",
    "#volcano.head()"
   ]
  }
 ],
 "metadata": {
  "kernelspec": {
   "display_name": "Python 3",
   "language": "python",
   "name": "python3"
  },
  "language_info": {
   "codemirror_mode": {
    "name": "ipython",
    "version": 3
   },
   "file_extension": ".py",
   "mimetype": "text/x-python",
   "name": "python",
   "nbconvert_exporter": "python",
   "pygments_lexer": "ipython3",
   "version": "3.8.3"
  }
 },
 "nbformat": 4,
 "nbformat_minor": 4
}
